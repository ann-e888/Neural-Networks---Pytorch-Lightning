{
  "nbformat": 4,
  "nbformat_minor": 0,
  "metadata": {
    "colab": {
      "provenance": [],
      "authorship_tag": "ABX9TyP7vKo1/zFMizRXxqzCFTM2",
      "include_colab_link": true
    },
    "kernelspec": {
      "name": "python3",
      "display_name": "Python 3"
    },
    "language_info": {
      "name": "python"
    },
    "widgets": {
      "application/vnd.jupyter.widget-state+json": {
        "452fd85059474bf086f249333223d298": {
          "model_module": "@jupyter-widgets/controls",
          "model_name": "HBoxModel",
          "model_module_version": "1.5.0",
          "state": {
            "_dom_classes": [],
            "_model_module": "@jupyter-widgets/controls",
            "_model_module_version": "1.5.0",
            "_model_name": "HBoxModel",
            "_view_count": null,
            "_view_module": "@jupyter-widgets/controls",
            "_view_module_version": "1.5.0",
            "_view_name": "HBoxView",
            "box_style": "",
            "children": [
              "IPY_MODEL_a1d8d83018fe484eb5906fb5eb5e2e0b",
              "IPY_MODEL_f485b820f6fc4b759bb62c1868393767",
              "IPY_MODEL_d7e16f3c8e8d45239451c781b1589e82"
            ],
            "layout": "IPY_MODEL_49356d7d89974099a7ca97862b5b47db"
          }
        },
        "a1d8d83018fe484eb5906fb5eb5e2e0b": {
          "model_module": "@jupyter-widgets/controls",
          "model_name": "HTMLModel",
          "model_module_version": "1.5.0",
          "state": {
            "_dom_classes": [],
            "_model_module": "@jupyter-widgets/controls",
            "_model_module_version": "1.5.0",
            "_model_name": "HTMLModel",
            "_view_count": null,
            "_view_module": "@jupyter-widgets/controls",
            "_view_module_version": "1.5.0",
            "_view_name": "HTMLView",
            "description": "",
            "description_tooltip": null,
            "layout": "IPY_MODEL_f9ecd2e9a85f4ba2bbdfa7318b2eed67",
            "placeholder": "​",
            "style": "IPY_MODEL_4a17162f7c7746bea9fd1e747ff5ceb5",
            "value": "Finding best initial lr: 100%"
          }
        },
        "f485b820f6fc4b759bb62c1868393767": {
          "model_module": "@jupyter-widgets/controls",
          "model_name": "FloatProgressModel",
          "model_module_version": "1.5.0",
          "state": {
            "_dom_classes": [],
            "_model_module": "@jupyter-widgets/controls",
            "_model_module_version": "1.5.0",
            "_model_name": "FloatProgressModel",
            "_view_count": null,
            "_view_module": "@jupyter-widgets/controls",
            "_view_module_version": "1.5.0",
            "_view_name": "ProgressView",
            "bar_style": "",
            "description": "",
            "description_tooltip": null,
            "layout": "IPY_MODEL_03391e4a25e748148abbf3155dda4f0c",
            "max": 100,
            "min": 0,
            "orientation": "horizontal",
            "style": "IPY_MODEL_ab06ec8be604472893e79ed65ae60206",
            "value": 100
          }
        },
        "d7e16f3c8e8d45239451c781b1589e82": {
          "model_module": "@jupyter-widgets/controls",
          "model_name": "HTMLModel",
          "model_module_version": "1.5.0",
          "state": {
            "_dom_classes": [],
            "_model_module": "@jupyter-widgets/controls",
            "_model_module_version": "1.5.0",
            "_model_name": "HTMLModel",
            "_view_count": null,
            "_view_module": "@jupyter-widgets/controls",
            "_view_module_version": "1.5.0",
            "_view_name": "HTMLView",
            "description": "",
            "description_tooltip": null,
            "layout": "IPY_MODEL_736040028d6c41308f7803465a00214d",
            "placeholder": "​",
            "style": "IPY_MODEL_b0a916c73543443bae815a94af93313e",
            "value": " 100/100 [00:16&lt;00:00, 406.58it/s]"
          }
        },
        "49356d7d89974099a7ca97862b5b47db": {
          "model_module": "@jupyter-widgets/base",
          "model_name": "LayoutModel",
          "model_module_version": "1.2.0",
          "state": {
            "_model_module": "@jupyter-widgets/base",
            "_model_module_version": "1.2.0",
            "_model_name": "LayoutModel",
            "_view_count": null,
            "_view_module": "@jupyter-widgets/base",
            "_view_module_version": "1.2.0",
            "_view_name": "LayoutView",
            "align_content": null,
            "align_items": null,
            "align_self": null,
            "border": null,
            "bottom": null,
            "display": null,
            "flex": null,
            "flex_flow": null,
            "grid_area": null,
            "grid_auto_columns": null,
            "grid_auto_flow": null,
            "grid_auto_rows": null,
            "grid_column": null,
            "grid_gap": null,
            "grid_row": null,
            "grid_template_areas": null,
            "grid_template_columns": null,
            "grid_template_rows": null,
            "height": null,
            "justify_content": null,
            "justify_items": null,
            "left": null,
            "margin": null,
            "max_height": null,
            "max_width": null,
            "min_height": null,
            "min_width": null,
            "object_fit": null,
            "object_position": null,
            "order": null,
            "overflow": null,
            "overflow_x": null,
            "overflow_y": null,
            "padding": null,
            "right": null,
            "top": null,
            "visibility": null,
            "width": null
          }
        },
        "f9ecd2e9a85f4ba2bbdfa7318b2eed67": {
          "model_module": "@jupyter-widgets/base",
          "model_name": "LayoutModel",
          "model_module_version": "1.2.0",
          "state": {
            "_model_module": "@jupyter-widgets/base",
            "_model_module_version": "1.2.0",
            "_model_name": "LayoutModel",
            "_view_count": null,
            "_view_module": "@jupyter-widgets/base",
            "_view_module_version": "1.2.0",
            "_view_name": "LayoutView",
            "align_content": null,
            "align_items": null,
            "align_self": null,
            "border": null,
            "bottom": null,
            "display": null,
            "flex": null,
            "flex_flow": null,
            "grid_area": null,
            "grid_auto_columns": null,
            "grid_auto_flow": null,
            "grid_auto_rows": null,
            "grid_column": null,
            "grid_gap": null,
            "grid_row": null,
            "grid_template_areas": null,
            "grid_template_columns": null,
            "grid_template_rows": null,
            "height": null,
            "justify_content": null,
            "justify_items": null,
            "left": null,
            "margin": null,
            "max_height": null,
            "max_width": null,
            "min_height": null,
            "min_width": null,
            "object_fit": null,
            "object_position": null,
            "order": null,
            "overflow": null,
            "overflow_x": null,
            "overflow_y": null,
            "padding": null,
            "right": null,
            "top": null,
            "visibility": null,
            "width": null
          }
        },
        "4a17162f7c7746bea9fd1e747ff5ceb5": {
          "model_module": "@jupyter-widgets/controls",
          "model_name": "DescriptionStyleModel",
          "model_module_version": "1.5.0",
          "state": {
            "_model_module": "@jupyter-widgets/controls",
            "_model_module_version": "1.5.0",
            "_model_name": "DescriptionStyleModel",
            "_view_count": null,
            "_view_module": "@jupyter-widgets/base",
            "_view_module_version": "1.2.0",
            "_view_name": "StyleView",
            "description_width": ""
          }
        },
        "03391e4a25e748148abbf3155dda4f0c": {
          "model_module": "@jupyter-widgets/base",
          "model_name": "LayoutModel",
          "model_module_version": "1.2.0",
          "state": {
            "_model_module": "@jupyter-widgets/base",
            "_model_module_version": "1.2.0",
            "_model_name": "LayoutModel",
            "_view_count": null,
            "_view_module": "@jupyter-widgets/base",
            "_view_module_version": "1.2.0",
            "_view_name": "LayoutView",
            "align_content": null,
            "align_items": null,
            "align_self": null,
            "border": null,
            "bottom": null,
            "display": null,
            "flex": null,
            "flex_flow": null,
            "grid_area": null,
            "grid_auto_columns": null,
            "grid_auto_flow": null,
            "grid_auto_rows": null,
            "grid_column": null,
            "grid_gap": null,
            "grid_row": null,
            "grid_template_areas": null,
            "grid_template_columns": null,
            "grid_template_rows": null,
            "height": null,
            "justify_content": null,
            "justify_items": null,
            "left": null,
            "margin": null,
            "max_height": null,
            "max_width": null,
            "min_height": null,
            "min_width": null,
            "object_fit": null,
            "object_position": null,
            "order": null,
            "overflow": null,
            "overflow_x": null,
            "overflow_y": null,
            "padding": null,
            "right": null,
            "top": null,
            "visibility": null,
            "width": null
          }
        },
        "ab06ec8be604472893e79ed65ae60206": {
          "model_module": "@jupyter-widgets/controls",
          "model_name": "ProgressStyleModel",
          "model_module_version": "1.5.0",
          "state": {
            "_model_module": "@jupyter-widgets/controls",
            "_model_module_version": "1.5.0",
            "_model_name": "ProgressStyleModel",
            "_view_count": null,
            "_view_module": "@jupyter-widgets/base",
            "_view_module_version": "1.2.0",
            "_view_name": "StyleView",
            "bar_color": null,
            "description_width": ""
          }
        },
        "736040028d6c41308f7803465a00214d": {
          "model_module": "@jupyter-widgets/base",
          "model_name": "LayoutModel",
          "model_module_version": "1.2.0",
          "state": {
            "_model_module": "@jupyter-widgets/base",
            "_model_module_version": "1.2.0",
            "_model_name": "LayoutModel",
            "_view_count": null,
            "_view_module": "@jupyter-widgets/base",
            "_view_module_version": "1.2.0",
            "_view_name": "LayoutView",
            "align_content": null,
            "align_items": null,
            "align_self": null,
            "border": null,
            "bottom": null,
            "display": null,
            "flex": null,
            "flex_flow": null,
            "grid_area": null,
            "grid_auto_columns": null,
            "grid_auto_flow": null,
            "grid_auto_rows": null,
            "grid_column": null,
            "grid_gap": null,
            "grid_row": null,
            "grid_template_areas": null,
            "grid_template_columns": null,
            "grid_template_rows": null,
            "height": null,
            "justify_content": null,
            "justify_items": null,
            "left": null,
            "margin": null,
            "max_height": null,
            "max_width": null,
            "min_height": null,
            "min_width": null,
            "object_fit": null,
            "object_position": null,
            "order": null,
            "overflow": null,
            "overflow_x": null,
            "overflow_y": null,
            "padding": null,
            "right": null,
            "top": null,
            "visibility": null,
            "width": null
          }
        },
        "b0a916c73543443bae815a94af93313e": {
          "model_module": "@jupyter-widgets/controls",
          "model_name": "DescriptionStyleModel",
          "model_module_version": "1.5.0",
          "state": {
            "_model_module": "@jupyter-widgets/controls",
            "_model_module_version": "1.5.0",
            "_model_name": "DescriptionStyleModel",
            "_view_count": null,
            "_view_module": "@jupyter-widgets/base",
            "_view_module_version": "1.2.0",
            "_view_name": "StyleView",
            "description_width": ""
          }
        },
        "bb916f3ca819476b888c313a71117962": {
          "model_module": "@jupyter-widgets/controls",
          "model_name": "HBoxModel",
          "model_module_version": "1.5.0",
          "state": {
            "_dom_classes": [],
            "_model_module": "@jupyter-widgets/controls",
            "_model_module_version": "1.5.0",
            "_model_name": "HBoxModel",
            "_view_count": null,
            "_view_module": "@jupyter-widgets/controls",
            "_view_module_version": "1.5.0",
            "_view_name": "HBoxView",
            "box_style": "",
            "children": [
              "IPY_MODEL_c51524c4a284485ea324ba9ad1ab683d",
              "IPY_MODEL_02a9fafe25fd467baf2d982a33324c5d",
              "IPY_MODEL_b1553e1f08f244e7be1f217e7eebc764"
            ],
            "layout": "IPY_MODEL_b0347dc6c0a0476f8de70629639b33f5"
          }
        },
        "c51524c4a284485ea324ba9ad1ab683d": {
          "model_module": "@jupyter-widgets/controls",
          "model_name": "HTMLModel",
          "model_module_version": "1.5.0",
          "state": {
            "_dom_classes": [],
            "_model_module": "@jupyter-widgets/controls",
            "_model_module_version": "1.5.0",
            "_model_name": "HTMLModel",
            "_view_count": null,
            "_view_module": "@jupyter-widgets/controls",
            "_view_module_version": "1.5.0",
            "_view_name": "HTMLView",
            "description": "",
            "description_tooltip": null,
            "layout": "IPY_MODEL_852b0d19dfb94ef580c82008159640be",
            "placeholder": "​",
            "style": "IPY_MODEL_08fba9b062b24afc96b056ba33dc4662",
            "value": "Epoch 99: 100%"
          }
        },
        "02a9fafe25fd467baf2d982a33324c5d": {
          "model_module": "@jupyter-widgets/controls",
          "model_name": "FloatProgressModel",
          "model_module_version": "1.5.0",
          "state": {
            "_dom_classes": [],
            "_model_module": "@jupyter-widgets/controls",
            "_model_module_version": "1.5.0",
            "_model_name": "FloatProgressModel",
            "_view_count": null,
            "_view_module": "@jupyter-widgets/controls",
            "_view_module_version": "1.5.0",
            "_view_name": "ProgressView",
            "bar_style": "success",
            "description": "",
            "description_tooltip": null,
            "layout": "IPY_MODEL_8d06f5cb00e24834a441f1c0c3fe61f0",
            "max": 1,
            "min": 0,
            "orientation": "horizontal",
            "style": "IPY_MODEL_187df61a2fa444488722689848eeb6a3",
            "value": 1
          }
        },
        "b1553e1f08f244e7be1f217e7eebc764": {
          "model_module": "@jupyter-widgets/controls",
          "model_name": "HTMLModel",
          "model_module_version": "1.5.0",
          "state": {
            "_dom_classes": [],
            "_model_module": "@jupyter-widgets/controls",
            "_model_module_version": "1.5.0",
            "_model_name": "HTMLModel",
            "_view_count": null,
            "_view_module": "@jupyter-widgets/controls",
            "_view_module_version": "1.5.0",
            "_view_name": "HTMLView",
            "description": "",
            "description_tooltip": null,
            "layout": "IPY_MODEL_b2442da50b2f4d7e9db5be24709ce1a9",
            "placeholder": "​",
            "style": "IPY_MODEL_4e8a59e66e0e4e51aa425fce79678f98",
            "value": " 1/1 [00:00&lt;00:00, 45.08it/s, v_num=10]"
          }
        },
        "b0347dc6c0a0476f8de70629639b33f5": {
          "model_module": "@jupyter-widgets/base",
          "model_name": "LayoutModel",
          "model_module_version": "1.2.0",
          "state": {
            "_model_module": "@jupyter-widgets/base",
            "_model_module_version": "1.2.0",
            "_model_name": "LayoutModel",
            "_view_count": null,
            "_view_module": "@jupyter-widgets/base",
            "_view_module_version": "1.2.0",
            "_view_name": "LayoutView",
            "align_content": null,
            "align_items": null,
            "align_self": null,
            "border": null,
            "bottom": null,
            "display": "inline-flex",
            "flex": null,
            "flex_flow": "row wrap",
            "grid_area": null,
            "grid_auto_columns": null,
            "grid_auto_flow": null,
            "grid_auto_rows": null,
            "grid_column": null,
            "grid_gap": null,
            "grid_row": null,
            "grid_template_areas": null,
            "grid_template_columns": null,
            "grid_template_rows": null,
            "height": null,
            "justify_content": null,
            "justify_items": null,
            "left": null,
            "margin": null,
            "max_height": null,
            "max_width": null,
            "min_height": null,
            "min_width": null,
            "object_fit": null,
            "object_position": null,
            "order": null,
            "overflow": null,
            "overflow_x": null,
            "overflow_y": null,
            "padding": null,
            "right": null,
            "top": null,
            "visibility": null,
            "width": "100%"
          }
        },
        "852b0d19dfb94ef580c82008159640be": {
          "model_module": "@jupyter-widgets/base",
          "model_name": "LayoutModel",
          "model_module_version": "1.2.0",
          "state": {
            "_model_module": "@jupyter-widgets/base",
            "_model_module_version": "1.2.0",
            "_model_name": "LayoutModel",
            "_view_count": null,
            "_view_module": "@jupyter-widgets/base",
            "_view_module_version": "1.2.0",
            "_view_name": "LayoutView",
            "align_content": null,
            "align_items": null,
            "align_self": null,
            "border": null,
            "bottom": null,
            "display": null,
            "flex": null,
            "flex_flow": null,
            "grid_area": null,
            "grid_auto_columns": null,
            "grid_auto_flow": null,
            "grid_auto_rows": null,
            "grid_column": null,
            "grid_gap": null,
            "grid_row": null,
            "grid_template_areas": null,
            "grid_template_columns": null,
            "grid_template_rows": null,
            "height": null,
            "justify_content": null,
            "justify_items": null,
            "left": null,
            "margin": null,
            "max_height": null,
            "max_width": null,
            "min_height": null,
            "min_width": null,
            "object_fit": null,
            "object_position": null,
            "order": null,
            "overflow": null,
            "overflow_x": null,
            "overflow_y": null,
            "padding": null,
            "right": null,
            "top": null,
            "visibility": null,
            "width": null
          }
        },
        "08fba9b062b24afc96b056ba33dc4662": {
          "model_module": "@jupyter-widgets/controls",
          "model_name": "DescriptionStyleModel",
          "model_module_version": "1.5.0",
          "state": {
            "_model_module": "@jupyter-widgets/controls",
            "_model_module_version": "1.5.0",
            "_model_name": "DescriptionStyleModel",
            "_view_count": null,
            "_view_module": "@jupyter-widgets/base",
            "_view_module_version": "1.2.0",
            "_view_name": "StyleView",
            "description_width": ""
          }
        },
        "8d06f5cb00e24834a441f1c0c3fe61f0": {
          "model_module": "@jupyter-widgets/base",
          "model_name": "LayoutModel",
          "model_module_version": "1.2.0",
          "state": {
            "_model_module": "@jupyter-widgets/base",
            "_model_module_version": "1.2.0",
            "_model_name": "LayoutModel",
            "_view_count": null,
            "_view_module": "@jupyter-widgets/base",
            "_view_module_version": "1.2.0",
            "_view_name": "LayoutView",
            "align_content": null,
            "align_items": null,
            "align_self": null,
            "border": null,
            "bottom": null,
            "display": null,
            "flex": "2",
            "flex_flow": null,
            "grid_area": null,
            "grid_auto_columns": null,
            "grid_auto_flow": null,
            "grid_auto_rows": null,
            "grid_column": null,
            "grid_gap": null,
            "grid_row": null,
            "grid_template_areas": null,
            "grid_template_columns": null,
            "grid_template_rows": null,
            "height": null,
            "justify_content": null,
            "justify_items": null,
            "left": null,
            "margin": null,
            "max_height": null,
            "max_width": null,
            "min_height": null,
            "min_width": null,
            "object_fit": null,
            "object_position": null,
            "order": null,
            "overflow": null,
            "overflow_x": null,
            "overflow_y": null,
            "padding": null,
            "right": null,
            "top": null,
            "visibility": null,
            "width": null
          }
        },
        "187df61a2fa444488722689848eeb6a3": {
          "model_module": "@jupyter-widgets/controls",
          "model_name": "ProgressStyleModel",
          "model_module_version": "1.5.0",
          "state": {
            "_model_module": "@jupyter-widgets/controls",
            "_model_module_version": "1.5.0",
            "_model_name": "ProgressStyleModel",
            "_view_count": null,
            "_view_module": "@jupyter-widgets/base",
            "_view_module_version": "1.2.0",
            "_view_name": "StyleView",
            "bar_color": null,
            "description_width": ""
          }
        },
        "b2442da50b2f4d7e9db5be24709ce1a9": {
          "model_module": "@jupyter-widgets/base",
          "model_name": "LayoutModel",
          "model_module_version": "1.2.0",
          "state": {
            "_model_module": "@jupyter-widgets/base",
            "_model_module_version": "1.2.0",
            "_model_name": "LayoutModel",
            "_view_count": null,
            "_view_module": "@jupyter-widgets/base",
            "_view_module_version": "1.2.0",
            "_view_name": "LayoutView",
            "align_content": null,
            "align_items": null,
            "align_self": null,
            "border": null,
            "bottom": null,
            "display": null,
            "flex": null,
            "flex_flow": null,
            "grid_area": null,
            "grid_auto_columns": null,
            "grid_auto_flow": null,
            "grid_auto_rows": null,
            "grid_column": null,
            "grid_gap": null,
            "grid_row": null,
            "grid_template_areas": null,
            "grid_template_columns": null,
            "grid_template_rows": null,
            "height": null,
            "justify_content": null,
            "justify_items": null,
            "left": null,
            "margin": null,
            "max_height": null,
            "max_width": null,
            "min_height": null,
            "min_width": null,
            "object_fit": null,
            "object_position": null,
            "order": null,
            "overflow": null,
            "overflow_x": null,
            "overflow_y": null,
            "padding": null,
            "right": null,
            "top": null,
            "visibility": null,
            "width": null
          }
        },
        "4e8a59e66e0e4e51aa425fce79678f98": {
          "model_module": "@jupyter-widgets/controls",
          "model_name": "DescriptionStyleModel",
          "model_module_version": "1.5.0",
          "state": {
            "_model_module": "@jupyter-widgets/controls",
            "_model_module_version": "1.5.0",
            "_model_name": "DescriptionStyleModel",
            "_view_count": null,
            "_view_module": "@jupyter-widgets/base",
            "_view_module_version": "1.2.0",
            "_view_name": "StyleView",
            "description_width": ""
          }
        }
      }
    }
  },
  "cells": [
    {
      "cell_type": "markdown",
      "metadata": {
        "id": "view-in-github",
        "colab_type": "text"
      },
      "source": [
        "<a href=\"https://colab.research.google.com/github/ann-e888/Neural-Networks---Pytorch-Lightning/blob/main/Introduction_Lightning.ipynb\" target=\"_parent\"><img src=\"https://colab.research.google.com/assets/colab-badge.svg\" alt=\"Open In Colab\"/></a>"
      ]
    },
    {
      "cell_type": "code",
      "source": [
        "pip install -q lightning"
      ],
      "metadata": {
        "id": "HTaZKfpobxWf"
      },
      "execution_count": 99,
      "outputs": []
    },
    {
      "cell_type": "code",
      "execution_count": 100,
      "metadata": {
        "id": "VCyC0O5tZ0RC"
      },
      "outputs": [],
      "source": [
        "import torch\n",
        "import torch.nn as nn\n",
        "import torch.nn.functional as F\n",
        "import torch.optim as optim\n",
        "\n",
        "import lightning as L\n",
        "from lightning.pytorch.tuner import Tuner\n",
        "from torch.utils.data import TensorDataset, DataLoader\n",
        "\n",
        "import matplotlib.pyplot as plt\n",
        "import seaborn as sns"
      ]
    },
    {
      "cell_type": "code",
      "source": [
        "class BasicLightning(L.LightningModule):\n",
        "  def __init__(self):\n",
        "\n",
        "    super().__init__()\n",
        "\n",
        "    self.w00 = nn.Parameter(torch.tensor(1.7), requires_grad=False)\n",
        "    self.b00 = nn.Parameter(torch.tensor(-0.85), requires_grad=False)\n",
        "    self.w01 = nn.Parameter(torch.tensor(-40.8), requires_grad=False)\n",
        "\n",
        "    self.w10 = nn.Parameter(torch.tensor(12.6), requires_grad=False)\n",
        "    self.b10 = nn.Parameter(torch.tensor(0.0), requires_grad=False)\n",
        "    self.w11 = nn.Parameter(torch.tensor(2.7), requires_grad=False)\n",
        "\n",
        "    self.final_bias = nn.Parameter(torch.tensor(-16.), requires_grad=False)\n",
        "\n",
        "  def forward(self, input):\n",
        "\n",
        "    input_to_top_relu = input * self.w00 + self.b00\n",
        "    top_relu_output = F.relu(input_to_top_relu)\n",
        "    scaled_top_relu_output = top_relu_output * self.w01\n",
        "\n",
        "    input_to_bottom_relu = input * self.w10 + self.b10\n",
        "    bottom_relu_output = F.relu(input_to_bottom_relu)\n",
        "    scaled_bottom_relu_output = bottom_relu_output * self.w11\n",
        "\n",
        "    input_to_final_relu = scaled_top_relu_output + scaled_bottom_relu_output + self.final_bias\n",
        "    final_output = F.relu(input_to_final_relu)\n",
        "\n",
        "    return final_output"
      ],
      "metadata": {
        "id": "DNe0HzRKct1l"
      },
      "execution_count": 101,
      "outputs": []
    },
    {
      "cell_type": "code",
      "source": [
        "input_doses = torch.linspace(start=0, end=1, steps=11)\n",
        "input_doses"
      ],
      "metadata": {
        "colab": {
          "base_uri": "https://localhost:8080/"
        },
        "id": "DMYF3-vndMLY",
        "outputId": "8f87b65b-bf24-4868-a2d5-8240a1e9669d"
      },
      "execution_count": 102,
      "outputs": [
        {
          "output_type": "execute_result",
          "data": {
            "text/plain": [
              "tensor([0.0000, 0.1000, 0.2000, 0.3000, 0.4000, 0.5000, 0.6000, 0.7000, 0.8000,\n",
              "        0.9000, 1.0000])"
            ]
          },
          "metadata": {},
          "execution_count": 102
        }
      ]
    },
    {
      "cell_type": "code",
      "source": [
        "model = BasicLightning()"
      ],
      "metadata": {
        "id": "AT7-1b0HdM2u"
      },
      "execution_count": 103,
      "outputs": []
    },
    {
      "cell_type": "code",
      "source": [
        "output_values = model(input_doses)\n",
        "output_values"
      ],
      "metadata": {
        "colab": {
          "base_uri": "https://localhost:8080/"
        },
        "id": "e0JAasoydRAJ",
        "outputId": "139b868c-6feb-4666-9107-786e24e55bcf"
      },
      "execution_count": 104,
      "outputs": [
        {
          "output_type": "execute_result",
          "data": {
            "text/plain": [
              "tensor([0.0000, 0.0000, 0.0000, 0.0000, 0.0000, 1.0100, 0.0000, 0.0000, 0.0000,\n",
              "        0.0000, 0.0000])"
            ]
          },
          "metadata": {},
          "execution_count": 104
        }
      ]
    },
    {
      "cell_type": "code",
      "source": [
        "sns.set(style='whitegrid')\n",
        "sns.lineplot(x=input_doses, y=output_values, color='green', linewidth=2.5)\n",
        "plt.ylabel('Effectiveness')\n",
        "plt.xlabel('Dose')"
      ],
      "metadata": {
        "colab": {
          "base_uri": "https://localhost:8080/",
          "height": 476
        },
        "id": "lv7jMsVqdZDQ",
        "outputId": "fc887c63-e313-45da-d378-1286349f6005"
      },
      "execution_count": 105,
      "outputs": [
        {
          "output_type": "execute_result",
          "data": {
            "text/plain": [
              "Text(0.5, 0, 'Dose')"
            ]
          },
          "metadata": {},
          "execution_count": 105
        },
        {
          "output_type": "display_data",
          "data": {
            "text/plain": [
              "<Figure size 640x480 with 1 Axes>"
            ],
            "image/png": "[encoded data removed]"
          },
          "metadata": {}
        }
      ]
    },
    {
      "cell_type": "code",
      "source": [
        "class BasicLightningTrain(L.LightningModule):\n",
        "  def __init__(self):\n",
        "\n",
        "    super().__init__()\n",
        "\n",
        "    self.w00 = nn.Parameter(torch.tensor(1.7), requires_grad=False)\n",
        "    self.b00 = nn.Parameter(torch.tensor(-0.85), requires_grad=False)\n",
        "    self.w01 = nn.Parameter(torch.tensor(-40.8), requires_grad=False)\n",
        "\n",
        "    self.w10 = nn.Parameter(torch.tensor(12.6), requires_grad=False)\n",
        "    self.b10 = nn.Parameter(torch.tensor(0.0), requires_grad=False)\n",
        "    self.w11 = nn.Parameter(torch.tensor(2.7), requires_grad=False)\n",
        "\n",
        "    self.final_bias = nn.Parameter(torch.tensor(0.), requires_grad=True)\n",
        "\n",
        "    self.learning_rate = 0.01\n",
        "\n",
        "  def forward(self, input):\n",
        "\n",
        "    input_to_top_relu = input * self.w00 + self.b00\n",
        "    top_relu_output = F.relu(input_to_top_relu)\n",
        "    scaled_top_relu_output = top_relu_output * self.w01\n",
        "\n",
        "    input_to_bottom_relu = input * self.w10 + self.b10\n",
        "    bottom_relu_output = F.relu(input_to_bottom_relu)\n",
        "    scaled_bottom_relu_output = bottom_relu_output * self.w11\n",
        "\n",
        "    input_to_final_relu = scaled_top_relu_output + scaled_bottom_relu_output + self.final_bias\n",
        "    final_output = F.relu(input_to_final_relu)\n",
        "\n",
        "    return final_output\n",
        "\n",
        "  def configure_optimizers(self):\n",
        "    return optim.SGD(self.parameters(), lr=self.learning_rate)\n",
        "\n",
        "  def training_step(self, batch, bathc_idx):\n",
        "    input_i, label_i = batch\n",
        "    output_i = self.forward(input_i)\n",
        "    loss = torch.mean((output_i - label_i)**2)\n",
        "    return loss"
      ],
      "metadata": {
        "id": "KEfxryD9dp5o"
      },
      "execution_count": 111,
      "outputs": []
    },
    {
      "cell_type": "code",
      "source": [
        "inputs = torch.tensor([0., 0.5, 1.])\n",
        "labels = torch.tensor([0., 1., 0.])"
      ],
      "metadata": {
        "id": "YY9ujMzeeQFD"
      },
      "execution_count": 112,
      "outputs": []
    },
    {
      "cell_type": "code",
      "source": [
        "dataset = TensorDataset(inputs, labels)\n",
        "dataloader = DataLoader(dataset, batch_size=3)"
      ],
      "metadata": {
        "id": "qmU3K_bWeavX"
      },
      "execution_count": 113,
      "outputs": []
    },
    {
      "cell_type": "code",
      "source": [
        "model = BasicLightningTrain()\n",
        "trainer = L.Trainer(max_epochs=100\n",
        "                    #, accelerator='auto', devices='auto', log_every_n_steps=1\n",
        "                    )\n",
        "tuner = Tuner(trainer)"
      ],
      "metadata": {
        "id": "AwuYJoOTVamI",
        "colab": {
          "base_uri": "https://localhost:8080/"
        },
        "outputId": "0c1637e8-ba3a-426e-e43c-958e8e768a90"
      },
      "execution_count": 114,
      "outputs": [
        {
          "output_type": "stream",
          "name": "stderr",
          "text": [
            "INFO:pytorch_lightning.utilities.rank_zero:GPU available: False, used: False\n",
            "INFO:pytorch_lightning.utilities.rank_zero:TPU available: False, using: 0 TPU cores\n",
            "INFO:pytorch_lightning.utilities.rank_zero:HPU available: False, using: 0 HPUs\n"
          ]
        }
      ]
    },
    {
      "cell_type": "code",
      "source": [
        "lr_finder = tuner.lr_find(\n",
        "    model,\n",
        "    train_dataloaders=dataloader,\n",
        "    min_lr=0.001,\n",
        "    max_lr=1.0,\n",
        "    early_stop_threshold=None\n",
        ")"
      ],
      "metadata": {
        "colab": {
          "base_uri": "https://localhost:8080/",
          "height": 178,
          "referenced_widgets": [
            "452fd85059474bf086f249333223d298",
            "a1d8d83018fe484eb5906fb5eb5e2e0b",
            "f485b820f6fc4b759bb62c1868393767",
            "d7e16f3c8e8d45239451c781b1589e82",
            "49356d7d89974099a7ca97862b5b47db",
            "f9ecd2e9a85f4ba2bbdfa7318b2eed67",
            "4a17162f7c7746bea9fd1e747ff5ceb5",
            "03391e4a25e748148abbf3155dda4f0c",
            "ab06ec8be604472893e79ed65ae60206",
            "736040028d6c41308f7803465a00214d",
            "b0a916c73543443bae815a94af93313e"
          ]
        },
        "id": "eZ7KPXVShi0B",
        "outputId": "bec81571-43c9-4826-befb-b3f6db382a85"
      },
      "execution_count": 115,
      "outputs": [
        {
          "output_type": "stream",
          "name": "stderr",
          "text": [
            "/usr/local/lib/python3.10/dist-packages/lightning/pytorch/loops/fit_loop.py:310: The number of training batches (1) is smaller than the logging interval Trainer(log_every_n_steps=50). Set a lower value for log_every_n_steps if you want to see logs for the training epoch.\n"
          ]
        },
        {
          "output_type": "display_data",
          "data": {
            "text/plain": [
              "Finding best initial lr:   0%|          | 0/100 [00:00<?, ?it/s]"
            ],
            "application/vnd.jupyter.widget-view+json": {
              "version_major": 2,
              "version_minor": 0,
              "model_id": "452fd85059474bf086f249333223d298"
            }
          },
          "metadata": {}
        },
        {
          "output_type": "stream",
          "name": "stderr",
          "text": [
            "INFO:pytorch_lightning.utilities.rank_zero:`Trainer.fit` stopped: `max_steps=100` reached.\n",
            "INFO: Learning rate set to 0.11748975549395292\n",
            "INFO:lightning.pytorch.tuner.lr_finder:Learning rate set to 0.11748975549395292\n",
            "INFO:pytorch_lightning.utilities.rank_zero:Restoring states from the checkpoint path at /content/.lr_find_109b8cc5-a30d-44b9-9373-e8b3232c603a.ckpt\n",
            "INFO:pytorch_lightning.utilities.rank_zero:Restored all states from the checkpoint at /content/.lr_find_109b8cc5-a30d-44b9-9373-e8b3232c603a.ckpt\n"
          ]
        }
      ]
    },
    {
      "cell_type": "code",
      "source": [
        "new_lr = lr_finder.suggestion()\n",
        "print(f'lr_find() suggests {new_lr:.5f} for the learning rate.')"
      ],
      "metadata": {
        "colab": {
          "base_uri": "https://localhost:8080/"
        },
        "id": "c82vtCGrjeb6",
        "outputId": "dff21a7a-5672-4521-86d8-75714fe5943c"
      },
      "execution_count": 116,
      "outputs": [
        {
          "output_type": "stream",
          "name": "stdout",
          "text": [
            "lr_find() suggests 0.11749 for the learning rate.\n"
          ]
        }
      ]
    },
    {
      "cell_type": "code",
      "source": [
        "model.learning_rate = new_lr"
      ],
      "metadata": {
        "id": "nXokQC5Zj_c_"
      },
      "execution_count": 117,
      "outputs": []
    },
    {
      "cell_type": "code",
      "source": [
        "trainer.fit(model, train_dataloaders=dataloader)"
      ],
      "metadata": {
        "colab": {
          "base_uri": "https://localhost:8080/",
          "height": 466,
          "referenced_widgets": [
            "bb916f3ca819476b888c313a71117962",
            "c51524c4a284485ea324ba9ad1ab683d",
            "02a9fafe25fd467baf2d982a33324c5d",
            "b1553e1f08f244e7be1f217e7eebc764",
            "b0347dc6c0a0476f8de70629639b33f5",
            "852b0d19dfb94ef580c82008159640be",
            "08fba9b062b24afc96b056ba33dc4662",
            "8d06f5cb00e24834a441f1c0c3fe61f0",
            "187df61a2fa444488722689848eeb6a3",
            "b2442da50b2f4d7e9db5be24709ce1a9",
            "4e8a59e66e0e4e51aa425fce79678f98"
          ]
        },
        "id": "AIz6TWpVkF2X",
        "outputId": "600c973a-838a-4dc1-dfce-6ebed388b28f"
      },
      "execution_count": 118,
      "outputs": [
        {
          "output_type": "stream",
          "name": "stderr",
          "text": [
            "INFO: \n",
            "  | Name         | Type | Params | Mode\n",
            "---------------------------------------------\n",
            "  | other params | n/a  | 7      | n/a \n",
            "---------------------------------------------\n",
            "1         Trainable params\n",
            "6         Non-trainable params\n",
            "7         Total params\n",
            "0.000     Total estimated model params size (MB)\n",
            "0         Modules in train mode\n",
            "0         Modules in eval mode\n",
            "INFO:lightning.pytorch.callbacks.model_summary:\n",
            "  | Name         | Type | Params | Mode\n",
            "---------------------------------------------\n",
            "  | other params | n/a  | 7      | n/a \n",
            "---------------------------------------------\n",
            "1         Trainable params\n",
            "6         Non-trainable params\n",
            "7         Total params\n",
            "0.000     Total estimated model params size (MB)\n",
            "0         Modules in train mode\n",
            "0         Modules in eval mode\n"
          ]
        },
        {
          "output_type": "display_data",
          "data": {
            "text/plain": [
              "Training: |          | 0/? [00:00<?, ?it/s]"
            ],
            "application/vnd.jupyter.widget-view+json": {
              "version_major": 2,
              "version_minor": 0,
              "model_id": "bb916f3ca819476b888c313a71117962"
            }
          },
          "metadata": {}
        },
        {
          "output_type": "stream",
          "name": "stderr",
          "text": [
            "INFO:pytorch_lightning.utilities.rank_zero:`Trainer.fit` stopped: `max_epochs=100` reached.\n"
          ]
        }
      ]
    },
    {
      "cell_type": "code",
      "source": [
        "print(model.final_bias.data)"
      ],
      "metadata": {
        "colab": {
          "base_uri": "https://localhost:8080/"
        },
        "id": "OQ7q-OE1khtn",
        "outputId": "ec60b1e9-7985-47d9-db97-b93ed2911939"
      },
      "execution_count": 119,
      "outputs": [
        {
          "output_type": "stream",
          "name": "stdout",
          "text": [
            "tensor(-16.0054)\n"
          ]
        }
      ]
    },
    {
      "cell_type": "code",
      "source": [
        "output_values = model(input_doses)"
      ],
      "metadata": {
        "id": "JSHo5ZZ2VfhR"
      },
      "execution_count": 120,
      "outputs": []
    },
    {
      "cell_type": "code",
      "source": [
        "sns.set(style='whitegrid')\n",
        "\n",
        "sns.lineplot(x=input_doses, y=output_values.detach(), color='green', linewidth=2.5)\n",
        "plt.xlabel('Doses')\n",
        "plt.ylabel('Effectiveness')"
      ],
      "metadata": {
        "colab": {
          "base_uri": "https://localhost:8080/",
          "height": 476
        },
        "id": "H2pX9rzqVmis",
        "outputId": "d49f5cd2-6998-437a-ab3d-fffa05ef395b"
      },
      "execution_count": 121,
      "outputs": [
        {
          "output_type": "execute_result",
          "data": {
            "text/plain": [
              "Text(0, 0.5, 'Effectiveness')"
            ]
          },
          "metadata": {},
          "execution_count": 121
        },
        {
          "output_type": "display_data",
          "data": {
            "text/plain": [
              "<Figure size 640x480 with 1 Axes>"
            ],
            "image/png": "[encoded data removed]"
          },
          "metadata": {}
        }
      ]
    }
  ]
}